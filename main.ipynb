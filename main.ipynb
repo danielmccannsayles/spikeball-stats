{
 "cells": [
  {
   "cell_type": "code",
   "execution_count": 1,
   "id": "bec4ef6a",
   "metadata": {},
   "outputs": [],
   "source": [
    "%load_ext autoreload\n",
    "%autoreload 2"
   ]
  },
  {
   "cell_type": "code",
   "execution_count": 2,
   "id": "b1b59ed0",
   "metadata": {},
   "outputs": [
    {
     "name": "stdout",
     "output_type": "stream",
     "text": [
      "['Team Start', 'Team 1 Player 1 ', 'Team 1 Player 2 ', 'Team 2 Player 1 ', 'Team 2 Player 2 ', 'Team 1 Score ', 'Team 2 Score', 'Winning Team']\n"
     ]
    },
    {
     "data": {
      "text/html": [
       "<div>\n",
       "<style scoped>\n",
       "    .dataframe tbody tr th:only-of-type {\n",
       "        vertical-align: middle;\n",
       "    }\n",
       "\n",
       "    .dataframe tbody tr th {\n",
       "        vertical-align: top;\n",
       "    }\n",
       "\n",
       "    .dataframe thead th {\n",
       "        text-align: right;\n",
       "    }\n",
       "</style>\n",
       "<table border=\"1\" class=\"dataframe\">\n",
       "  <thead>\n",
       "    <tr style=\"text-align: right;\">\n",
       "      <th></th>\n",
       "      <th>Team Start</th>\n",
       "      <th>Team 1 Player 1</th>\n",
       "      <th>Team 1 Player 2</th>\n",
       "      <th>Team 2 Player 1</th>\n",
       "      <th>Team 2 Player 2</th>\n",
       "      <th>Team 1 Score</th>\n",
       "      <th>Team 2 Score</th>\n",
       "      <th>Winning Team</th>\n",
       "    </tr>\n",
       "  </thead>\n",
       "  <tbody>\n",
       "    <tr>\n",
       "      <th>0</th>\n",
       "      <td>Team 1</td>\n",
       "      <td>Erick A</td>\n",
       "      <td>Miles W</td>\n",
       "      <td>Mathis W</td>\n",
       "      <td>Nico U</td>\n",
       "      <td>19</td>\n",
       "      <td>17</td>\n",
       "      <td>Team 1</td>\n",
       "    </tr>\n",
       "    <tr>\n",
       "      <th>1</th>\n",
       "      <td>Team 2</td>\n",
       "      <td>Angel C</td>\n",
       "      <td>Anthony C</td>\n",
       "      <td>Erick A</td>\n",
       "      <td>Miles W</td>\n",
       "      <td>12</td>\n",
       "      <td>15</td>\n",
       "      <td>Team 2</td>\n",
       "    </tr>\n",
       "    <tr>\n",
       "      <th>2</th>\n",
       "      <td>Team 1</td>\n",
       "      <td>Erick A</td>\n",
       "      <td>Miles W</td>\n",
       "      <td>Mathis W</td>\n",
       "      <td>Nico U</td>\n",
       "      <td>17</td>\n",
       "      <td>15</td>\n",
       "      <td>Team 1</td>\n",
       "    </tr>\n",
       "    <tr>\n",
       "      <th>3</th>\n",
       "      <td>Team 1</td>\n",
       "      <td>Angel C</td>\n",
       "      <td>Miles W</td>\n",
       "      <td>Anthony C</td>\n",
       "      <td>Nico U</td>\n",
       "      <td>9</td>\n",
       "      <td>15</td>\n",
       "      <td>Team 2</td>\n",
       "    </tr>\n",
       "    <tr>\n",
       "      <th>4</th>\n",
       "      <td>Team 1</td>\n",
       "      <td>Angel C</td>\n",
       "      <td>Anthony C</td>\n",
       "      <td>Mathis W</td>\n",
       "      <td>Nico U</td>\n",
       "      <td>11</td>\n",
       "      <td>15</td>\n",
       "      <td>Team 2</td>\n",
       "    </tr>\n",
       "  </tbody>\n",
       "</table>\n",
       "</div>"
      ],
      "text/plain": [
       "  Team Start Team 1 Player 1  Team 1 Player 2  Team 2 Player 1   \\\n",
       "0    Team 1           Erick A          Miles W         Mathis W   \n",
       "1     Team 2          Angel C        Anthony C          Erick A   \n",
       "2    Team 1           Erick A          Miles W         Mathis W   \n",
       "3     Team 1          Angel C          Miles W        Anthony C   \n",
       "4    Team 1           Angel C        Anthony C         Mathis W   \n",
       "\n",
       "  Team 2 Player 2   Team 1 Score   Team 2 Score Winning Team  \n",
       "0          Nico U              19            17       Team 1  \n",
       "1          Miles W             12            15       Team 2  \n",
       "2          Nico U              17            15       Team 1  \n",
       "3           Nico U              9            15       Team 2  \n",
       "4          Nico U              11            15       Team 2  "
      ]
     },
     "execution_count": 2,
     "metadata": {},
     "output_type": "execute_result"
    }
   ],
   "source": [
    "import pandas as pd\n",
    "\n",
    "\n",
    "df = pd.read_csv(\"old-data-jul-9.csv\")\n",
    "\n",
    "df = df.drop(\"Winner 2\", axis=1)\n",
    "\n",
    "\n",
    "print(df.columns.tolist())\n",
    "\n",
    "df.head()\n"
   ]
  },
  {
   "cell_type": "code",
   "execution_count": 3,
   "id": "01f1a884",
   "metadata": {},
   "outputs": [
    {
     "data": {
      "text/plain": [
       "array(['Erick A', 'Miles W', 'Mathis W', 'Nico U ', 'Angel C',\n",
       "       'Anthony C', 'Nico U'], dtype=object)"
      ]
     },
     "execution_count": 3,
     "metadata": {},
     "output_type": "execute_result"
    }
   ],
   "source": [
    "players = pd.unique(df[['Team 1 Player 1 ', 'Team 1 Player 2 ', 'Team 2 Player 1 ', 'Team 2 Player 2 ']].values.ravel())\n",
    "\n",
    "players"
   ]
  },
  {
   "cell_type": "code",
   "execution_count": 4,
   "id": "2067aab4",
   "metadata": {},
   "outputs": [
    {
     "data": {
      "text/plain": [
       "{'Erick A': 1000,\n",
       " 'Miles W': 1000,\n",
       " 'Mathis W': 1000,\n",
       " 'Nico U ': 1000,\n",
       " 'Angel C': 1000,\n",
       " 'Anthony C': 1000,\n",
       " 'Nico U': 1000}"
      ]
     },
     "execution_count": 4,
     "metadata": {},
     "output_type": "execute_result"
    }
   ],
   "source": [
    "elo_scores: dict[str, float] = {player: 1000 for player in players}\n",
    "elo_scores"
   ]
  },
  {
   "cell_type": "code",
   "execution_count": null,
   "id": "3082e5b2",
   "metadata": {},
   "outputs": [
    {
     "name": "stdout",
     "output_type": "stream",
     "text": [
      "Winning players: ['Erick A', 'Miles W']\n",
      "Losing players: ['Mathis W', 'Nico U ']\n",
      "Updated ELO for Erick A: 1035.9\n",
      "Updated ELO for Miles W: 1035.9\n",
      "Updated ELO for Mathis W: 973.3\n",
      "Updated ELO for Nico U : 973.3\n",
      "Winning players: ['Erick A', 'Miles W']\n",
      "Losing players: ['Angel C', 'Anthony C']\n",
      "Updated ELO for Erick A: 1049.7\n",
      "Updated ELO for Miles W: 1049.7\n",
      "Updated ELO for Angel C: 972.4\n",
      "Updated ELO for Anthony C: 972.4\n",
      "Winning players: ['Erick A', 'Miles W']\n",
      "Losing players: ['Mathis W', 'Nico U ']\n",
      "Updated ELO for Erick A: 1062.2\n",
      "Updated ELO for Miles W: 1062.2\n",
      "Updated ELO for Mathis W: 960.7\n",
      "Updated ELO for Nico U : 960.7\n",
      "Winning players: ['Anthony C', 'Nico U']\n",
      "Losing players: ['Angel C', 'Miles W']\n",
      "Updated ELO for Anthony C: 1008.1\n",
      "Updated ELO for Nico U: 1008.1\n",
      "Updated ELO for Angel C: 1000.1\n",
      "Updated ELO for Miles W: 1000.1\n",
      "Winning players: ['Mathis W', 'Nico U ']\n",
      "Losing players: ['Angel C', 'Anthony C']\n",
      "Updated ELO for Mathis W: 978.7\n",
      "Updated ELO for Nico U : 978.7\n",
      "Updated ELO for Angel C: 986.1\n",
      "Updated ELO for Anthony C: 986.1\n",
      "Winning players: ['Mathis W', 'Nico U ']\n",
      "Losing players: ['Angel C', 'Anthony C']\n",
      "Updated ELO for Mathis W: 995.0\n",
      "Updated ELO for Nico U : 995.0\n",
      "Updated ELO for Angel C: 969.8\n",
      "Updated ELO for Anthony C: 969.8\n",
      "Winning players: ['Angel C', 'Anthony C']\n",
      "Losing players: ['Mathis W', 'Nico U ']\n",
      "Updated ELO for Angel C: 986.9\n",
      "Updated ELO for Anthony C: 986.9\n",
      "Updated ELO for Mathis W: 977.9\n",
      "Updated ELO for Nico U : 977.9\n",
      "Winning players: ['Angel C', 'Anthony C']\n",
      "Losing players: ['Mathis W', 'Nico U ']\n",
      "Updated ELO for Angel C: 1002.5\n",
      "Updated ELO for Anthony C: 1002.5\n",
      "Updated ELO for Mathis W: 962.3\n",
      "Updated ELO for Nico U : 962.3\n",
      "Winning players: ['Mathis W', 'Nico U ']\n",
      "Losing players: ['Angel C', 'Anthony C']\n",
      "Updated ELO for Mathis W: 980.1\n",
      "Updated ELO for Nico U : 980.1\n",
      "Updated ELO for Angel C: 984.7\n",
      "Updated ELO for Anthony C: 984.7\n",
      "Angel C         984.7\n",
      "Anthony C       984.7\n",
      "Erick A         1062.2\n",
      "Mathis W        980.1\n",
      "Miles W         1000.1\n",
      "Nico U          1008.1\n",
      "Nico U          980.1\n"
     ]
    }
   ],
   "source": [
    "# Implement basic elo. \n",
    "# Increase both players on each team by the same amount\n",
    "\n",
    "def expected_score_for_r1(R1, R2):\n",
    "    exp = (R2 - R1)/400\n",
    "    return 1/(1 + 10**exp)\n",
    "\n",
    "# K set to 32 like chess\n",
    "def calc_new_rating(old_rating, actual, expected):\n",
    "    return old_rating + (32 * (actual - expected))\n",
    "\n",
    "team1_columns = ['Team 1 Player 1 ', 'Team 1 Player 2 ']\n",
    "team2_columns = ['Team 2 Player 1 ', 'Team 2 Player 2 ']\n",
    "\n",
    "# For game in games\n",
    "for row in df.to_dict(orient=\"records\"):\n",
    "    winning_team = row[\"Winning Team\"]\n",
    "\n",
    "    if winning_team == \"Team 1\":\n",
    "        winning_players = [row[col] for col in team1_columns]\n",
    "        losing_players = [row[col] for col in team2_columns]\n",
    "    \n",
    "    else:\n",
    "        winning_players = [row[col] for col in team2_columns]\n",
    "        losing_players = [row[col] for col in team1_columns]\n",
    "    \n",
    "    print(\"Winning players:\", winning_players)\n",
    "    print(\"Losing players:\", losing_players)\n",
    "\n",
    "    # Get averaged team elo\n",
    "    winning_elo= (sum(elo_scores[player] for player in winning_players if player in elo_scores) / 2)\n",
    "    losing_elo = (sum(elo_scores[player] for player in losing_players if player in elo_scores) / 2)\n",
    "\n",
    "    # Total % adds to 1\n",
    "    winning_expected = expected_score_for_r1(winning_elo, losing_elo)\n",
    "    losing_expected = 1 - winning_expected\n",
    "\n",
    "    # 1 is a win, 0 is a loss\n",
    "    new_winning_elo = calc_new_rating(winning_elo, 1, winning_expected)\n",
    "    new_losing_elo = calc_new_rating(losing_elo, 0, losing_expected)\n",
    "\n",
    "    for player in winning_players:\n",
    "        elo_scores[player] = new_winning_elo\n",
    "        print(f\"Updated ELO for {player}: {elo_scores[player]:.1f}\")\n",
    "\n",
    "    for player in losing_players:\n",
    "        elo_scores[player] = new_losing_elo\n",
    "        print(f\"Updated ELO for {player}: {elo_scores[player]:.1f}\")\n"
   ]
  },
  {
   "cell_type": "code",
   "execution_count": null,
   "id": "637c59c0",
   "metadata": {},
   "outputs": [
    {
     "name": "stdout",
     "output_type": "stream",
     "text": [
      "Total games played: 9\n",
      "\n",
      "Final Score:\n",
      "Erick A         1062.2\n",
      "Nico U          1008.1\n",
      "Miles W         1000.1\n",
      "Angel C         984.7\n",
      "Anthony C       984.7\n",
      "Mathis W        980.1\n",
      "Nico U          980.1\n"
     ]
    }
   ],
   "source": [
    "print(f\"Total games played: {len(df)}\\n\")\n",
    "print(\"Final Scores:\")\n",
    "for player, score in sorted(elo_scores.items(), key=lambda x: x[1], reverse=True):\n",
    "    print(f\"{player.strip():<15} {round(score, 1)}\")\n"
   ]
  },
  {
   "cell_type": "code",
   "execution_count": null,
   "id": "58e3bd14",
   "metadata": {},
   "outputs": [],
   "source": []
  }
 ],
 "metadata": {
  "kernelspec": {
   "display_name": ".venv",
   "language": "python",
   "name": "python3"
  },
  "language_info": {
   "codemirror_mode": {
    "name": "ipython",
    "version": 3
   },
   "file_extension": ".py",
   "mimetype": "text/x-python",
   "name": "python",
   "nbconvert_exporter": "python",
   "pygments_lexer": "ipython3",
   "version": "3.12.5"
  }
 },
 "nbformat": 4,
 "nbformat_minor": 5
}
