{
 "cells": [
  {
   "cell_type": "code",
   "execution_count": 1,
   "id": "bec4ef6a",
   "metadata": {},
   "outputs": [],
   "source": [
    "%load_ext autoreload\n",
    "%autoreload 2"
   ]
  },
  {
   "cell_type": "markdown",
   "id": "78bd9073",
   "metadata": {},
   "source": [
    "### Data Cleaning"
   ]
  },
  {
   "cell_type": "code",
   "execution_count": 2,
   "id": "b1b59ed0",
   "metadata": {},
   "outputs": [
    {
     "name": "stdout",
     "output_type": "stream",
     "text": [
      "['Date', 'Team Start', 'Team 1 Player 1 ', 'Team 1 Player 2 ', 'Team 2 Player 1 ', 'Team 2 Player 2 ', 'Team 1 Score ', 'Team 2 Score', 'Winning Team']\n"
     ]
    },
    {
     "data": {
      "text/html": [
       "<div>\n",
       "<style scoped>\n",
       "    .dataframe tbody tr th:only-of-type {\n",
       "        vertical-align: middle;\n",
       "    }\n",
       "\n",
       "    .dataframe tbody tr th {\n",
       "        vertical-align: top;\n",
       "    }\n",
       "\n",
       "    .dataframe thead th {\n",
       "        text-align: right;\n",
       "    }\n",
       "</style>\n",
       "<table border=\"1\" class=\"dataframe\">\n",
       "  <thead>\n",
       "    <tr style=\"text-align: right;\">\n",
       "      <th></th>\n",
       "      <th>Date</th>\n",
       "      <th>Team Start</th>\n",
       "      <th>Team 1 Player 1</th>\n",
       "      <th>Team 1 Player 2</th>\n",
       "      <th>Team 2 Player 1</th>\n",
       "      <th>Team 2 Player 2</th>\n",
       "      <th>Team 1 Score</th>\n",
       "      <th>Team 2 Score</th>\n",
       "      <th>Winning Team</th>\n",
       "    </tr>\n",
       "  </thead>\n",
       "  <tbody>\n",
       "    <tr>\n",
       "      <th>0</th>\n",
       "      <td>6/25/25</td>\n",
       "      <td>Team 1</td>\n",
       "      <td>Erick A</td>\n",
       "      <td>Miles W</td>\n",
       "      <td>Mathis W</td>\n",
       "      <td>Nico U</td>\n",
       "      <td>19.0</td>\n",
       "      <td>17.0</td>\n",
       "      <td>Team 1</td>\n",
       "    </tr>\n",
       "    <tr>\n",
       "      <th>1</th>\n",
       "      <td>6/25/25</td>\n",
       "      <td>Team 2</td>\n",
       "      <td>Angel C</td>\n",
       "      <td>Anthony C</td>\n",
       "      <td>Erick A</td>\n",
       "      <td>Miles W</td>\n",
       "      <td>12.0</td>\n",
       "      <td>15.0</td>\n",
       "      <td>Team 2</td>\n",
       "    </tr>\n",
       "    <tr>\n",
       "      <th>2</th>\n",
       "      <td>6/25/25</td>\n",
       "      <td>Team 1</td>\n",
       "      <td>Erick A</td>\n",
       "      <td>Miles W</td>\n",
       "      <td>Mathis W</td>\n",
       "      <td>Nico U</td>\n",
       "      <td>17.0</td>\n",
       "      <td>15.0</td>\n",
       "      <td>Team 1</td>\n",
       "    </tr>\n",
       "    <tr>\n",
       "      <th>3</th>\n",
       "      <td>6/25/25</td>\n",
       "      <td>Team 1</td>\n",
       "      <td>Angel C</td>\n",
       "      <td>Miles W</td>\n",
       "      <td>Anthony C</td>\n",
       "      <td>Nico U</td>\n",
       "      <td>9.0</td>\n",
       "      <td>15.0</td>\n",
       "      <td>Team 2</td>\n",
       "    </tr>\n",
       "    <tr>\n",
       "      <th>4</th>\n",
       "      <td>6/25/25</td>\n",
       "      <td>Team 1</td>\n",
       "      <td>Angel C</td>\n",
       "      <td>Anthony C</td>\n",
       "      <td>Mathis W</td>\n",
       "      <td>Nico U</td>\n",
       "      <td>11.0</td>\n",
       "      <td>15.0</td>\n",
       "      <td>Team 2</td>\n",
       "    </tr>\n",
       "  </tbody>\n",
       "</table>\n",
       "</div>"
      ],
      "text/plain": [
       "      Date Team Start Team 1 Player 1  Team 1 Player 2  Team 2 Player 1   \\\n",
       "0  6/25/25    Team 1           Erick A          Miles W         Mathis W   \n",
       "1  6/25/25     Team 2          Angel C        Anthony C          Erick A   \n",
       "2  6/25/25    Team 1           Erick A          Miles W         Mathis W   \n",
       "3  6/25/25     Team 1          Angel C          Miles W        Anthony C   \n",
       "4  6/25/25    Team 1           Angel C        Anthony C         Mathis W   \n",
       "\n",
       "  Team 2 Player 2   Team 1 Score   Team 2 Score Winning Team  \n",
       "0          Nico U            19.0          17.0       Team 1  \n",
       "1          Miles W           12.0          15.0       Team 2  \n",
       "2          Nico U            17.0          15.0       Team 1  \n",
       "3           Nico U            9.0          15.0       Team 2  \n",
       "4          Nico U            11.0          15.0       Team 2  "
      ]
     },
     "execution_count": 2,
     "metadata": {},
     "output_type": "execute_result"
    }
   ],
   "source": [
    "import pandas as pd\n",
    "\n",
    "\n",
    "df = pd.read_csv(\"./data-june25-jul23.csv\")\n",
    "\n",
    "print(df.columns.tolist())\n",
    "\n",
    "df.head()\n"
   ]
  },
  {
   "cell_type": "code",
   "execution_count": 3,
   "id": "01f1a884",
   "metadata": {},
   "outputs": [
    {
     "name": "stdout",
     "output_type": "stream",
     "text": [
      "18\n"
     ]
    },
    {
     "data": {
      "text/plain": [
       "array(['Erick A', 'Miles W', 'Mathis W', 'Nico U ', 'Angel C',\n",
       "       'Anthony C', 'Nico U', 'Angel', 'Anthony', 'Erick', 'Nico',\n",
       "       'Mathis', 'Noa', 'Miles', 'Daniel', 'Evan', 'Madison', 'Sarah'],\n",
       "      dtype=object)"
      ]
     },
     "execution_count": 3,
     "metadata": {},
     "output_type": "execute_result"
    }
   ],
   "source": [
    "player_columns = ['Team 1 Player 1 ', 'Team 1 Player 2 ', 'Team 2 Player 1 ', 'Team 2 Player 2 ']\n",
    "players = pd.unique(df[player_columns].values.ravel())\n",
    "\n",
    "print(len(players))\n",
    "players"
   ]
  },
  {
   "cell_type": "code",
   "execution_count": 4,
   "id": "0001d00b",
   "metadata": {},
   "outputs": [
    {
     "name": "stdout",
     "output_type": "stream",
     "text": [
      "11\n"
     ]
    },
    {
     "data": {
      "text/plain": [
       "array(['Erick', 'Miles', 'Mathis', 'Nico', 'Angel', 'Anthony', 'Noa',\n",
       "       'Daniel', 'Evan', 'Madison', 'Sarah'], dtype=object)"
      ]
     },
     "execution_count": 4,
     "metadata": {},
     "output_type": "execute_result"
    }
   ],
   "source": [
    "# Consolidate duplicate players (for now remove last name)\n",
    "for col in player_columns:\n",
    "    df[col] = df[col].str.split().str[0]\n",
    "\n",
    "players = pd.unique(df[player_columns].values.ravel())\n",
    "\n",
    "print(len(players))\n",
    "players"
   ]
  },
  {
   "cell_type": "code",
   "execution_count": 5,
   "id": "2067aab4",
   "metadata": {},
   "outputs": [
    {
     "data": {
      "text/plain": [
       "{'Erick': 1000,\n",
       " 'Miles': 1000,\n",
       " 'Mathis': 1000,\n",
       " 'Nico': 1000,\n",
       " 'Angel': 1000,\n",
       " 'Anthony': 1000,\n",
       " 'Noa': 1000,\n",
       " 'Daniel': 1000,\n",
       " 'Evan': 1000,\n",
       " 'Madison': 1000,\n",
       " 'Sarah': 1000}"
      ]
     },
     "execution_count": 5,
     "metadata": {},
     "output_type": "execute_result"
    }
   ],
   "source": [
    "elo_scores: dict[str, float] = {player: 1000 for player in players}\n",
    "elo_scores"
   ]
  },
  {
   "cell_type": "markdown",
   "id": "54e17dee",
   "metadata": {},
   "source": [
    "### Basic ELO \n",
    "_Updating both players at the same time_"
   ]
  },
  {
   "cell_type": "code",
   "execution_count": 6,
   "id": "58e3bd14",
   "metadata": {},
   "outputs": [
    {
     "name": "stdout",
     "output_type": "stream",
     "text": [
      "Total games played: 31\n",
      "\n",
      "Final ELO Rankings:\n",
      "1. Erick: 1070.6\n",
      "2. Sarah: 1040.6\n",
      "3. Nico: 1018.4\n",
      "4. Angel: 1018.4\n",
      "5. Mathis: 1009.1\n",
      "6. Anthony: 1009.1\n",
      "7. Evan: 1007.2\n",
      "8. Daniel: 977.5\n",
      "9. Madison: 960.9\n",
      "10. Noa: 946.8\n",
      "11. Miles: 941.5\n"
     ]
    }
   ],
   "source": [
    "elo_scores: dict[str, float] = {player: 1000 for player in players}\n",
    "\n",
    "# Initialize ELO history with original scores\n",
    "elo_history: dict[str, list[dict[str, float]]] = {}\n",
    "elo_history[\"original\"] = [dict(elo_scores)]  # Make original a list too for consistency\n",
    "\n",
    "def expected_score_for_r1(R1, R2):\n",
    "    exp = (R2 - R1)/400\n",
    "    return 1/(1 + 10**exp)\n",
    "\n",
    "# K set to 32 like chess\n",
    "def calc_new_rating(old_rating, actual, expected):\n",
    "    return old_rating + (32 * (actual - expected))\n",
    "\n",
    "team1_columns = ['Team 1 Player 1 ', 'Team 1 Player 2 ']\n",
    "team2_columns = ['Team 2 Player 1 ', 'Team 2 Player 2 ']\n",
    "\n",
    "# Process each game\n",
    "for row in df.to_dict(orient=\"records\"):\n",
    "    date = row[\"Date\"]\n",
    "    winning_team = row[\"Winning Team\"]\n",
    "    \n",
    "    if winning_team == \"Team 1\":\n",
    "        winning_players = [row[col] for col in team1_columns]\n",
    "        losing_players = [row[col] for col in team2_columns]\n",
    "    else:\n",
    "        winning_players = [row[col] for col in team2_columns]\n",
    "        losing_players = [row[col] for col in team1_columns]\n",
    "    \n",
    "    # Get averaged team elo\n",
    "    winning_elo = (sum(elo_scores[player] for player in winning_players if player in elo_scores) / 2)\n",
    "    losing_elo = (sum(elo_scores[player] for player in losing_players if player in elo_scores) / 2)\n",
    "    \n",
    "    # Calculate expected scores (total % adds to 1)\n",
    "    winning_expected = expected_score_for_r1(winning_elo, losing_elo)\n",
    "    losing_expected = 1 - winning_expected\n",
    "    \n",
    "    # Calculate new ratings (1 is a win, 0 is a loss)\n",
    "    new_winning_elo = calc_new_rating(winning_elo, 1, winning_expected)\n",
    "    new_losing_elo = calc_new_rating(losing_elo, 0, losing_expected)\n",
    "    \n",
    "    # Update ELO scores with rounding\n",
    "    for player in winning_players:\n",
    "        elo_scores[player] = round(new_winning_elo, 1)\n",
    "    for player in losing_players:\n",
    "        elo_scores[player] = round(new_losing_elo, 1)\n",
    "    \n",
    "    # Store current ELO state in history\n",
    "    if date not in elo_history:\n",
    "        elo_history[date] = []\n",
    "    \n",
    "    # Store a snapshot of current ELO scores after this game\n",
    "    elo_history[date].append(dict(elo_scores))\n",
    "\n",
    "\n",
    "# Calculate total games played\n",
    "total_games = sum(len(scores_list) for date_key, scores_list in elo_history.items() if date_key != \"original\")\n",
    "\n",
    "print(f\"Total games played: {total_games}\")\n",
    "print(\"\\nFinal ELO Rankings:\")\n",
    "\n",
    "# Sort players by final ELO score (highest to lowest)\n",
    "sorted_players = sorted(elo_scores.items(), key=lambda x: x[1], reverse=True)\n",
    "\n",
    "for rank, (player, elo) in enumerate(sorted_players, 1):\n",
    "    print(f\"{rank}. {player}: {elo}\")\n"
   ]
  },
  {
   "cell_type": "code",
   "execution_count": 24,
   "id": "a994411c",
   "metadata": {},
   "outputs": [
    {
     "data": {
      "application/vnd.plotly.v1+json": {
       "config": {
        "plotlyServerURL": "https://plot.ly"
       },
       "data": [
        {
         "hoverinfo": "skip",
         "line": {
          "width": 2
         },
         "marker": {
          "size": 6
         },
         "mode": "lines+markers",
         "name": "Erick",
         "showlegend": true,
         "type": "scatter",
         "x": [
          0,
          1,
          2,
          3,
          4,
          5,
          6,
          7,
          8,
          9,
          10,
          11,
          12,
          13,
          14,
          15,
          16,
          17,
          18,
          19,
          20,
          21,
          22,
          23,
          24,
          25,
          26,
          27,
          28,
          29,
          30,
          31
         ],
         "y": [
          1000,
          1016,
          1031.3,
          1045.1,
          1045.1,
          1045.1,
          1045.1,
          1045.1,
          1045.1,
          1045.1,
          1035,
          1048,
          1059.8,
          1070.6,
          1070.6,
          1070.6,
          1070.6,
          1070.6,
          1070.6,
          1070.6,
          1070.6,
          1070.6,
          1070.6,
          1070.6,
          1070.6,
          1070.6,
          1070.6,
          1070.6,
          1070.6,
          1070.6,
          1070.6,
          1070.6
         ]
        },
        {
         "hoverinfo": "skip",
         "line": {
          "width": 2
         },
         "marker": {
          "size": 6
         },
         "mode": "lines+markers",
         "name": "Miles",
         "showlegend": true,
         "type": "scatter",
         "x": [
          0,
          1,
          2,
          3,
          4,
          5,
          6,
          7,
          8,
          9,
          10,
          11,
          12,
          13,
          14,
          15,
          16,
          17,
          18,
          19,
          20,
          21,
          22,
          23,
          24,
          25,
          26,
          27,
          28,
          29,
          30,
          31
         ],
         "y": [
          1000,
          1016,
          1031.3,
          1045.1,
          997.2,
          997.2,
          997.2,
          997.2,
          997.2,
          997.2,
          997.2,
          997.2,
          997.2,
          997.2,
          997.2,
          1002.5,
          1002.5,
          1002.5,
          999.2,
          999.2,
          982.7,
          976,
          962.1,
          962.1,
          946.8,
          946.8,
          941.5,
          941.5,
          941.5,
          941.5,
          941.5,
          941.5
         ]
        },
        {
         "hoverinfo": "skip",
         "line": {
          "width": 2
         },
         "marker": {
          "size": 6
         },
         "mode": "lines+markers",
         "name": "Mathis",
         "showlegend": true,
         "type": "scatter",
         "x": [
          0,
          1,
          2,
          3,
          4,
          5,
          6,
          7,
          8,
          9,
          10,
          11,
          12,
          13,
          14,
          15,
          16,
          17,
          18,
          19,
          20,
          21,
          22,
          23,
          24,
          25,
          26,
          27,
          28,
          29,
          30,
          31
         ],
         "y": [
          1000,
          984,
          984,
          970.2,
          970.2,
          999.3,
          1014.4,
          996.1,
          979.5,
          996.4,
          996.4,
          996.4,
          996.4,
          996.4,
          979.2,
          979.2,
          979.2,
          979.2,
          979.2,
          957.2,
          957.2,
          957.2,
          957.2,
          1028.1,
          1041,
          986.4,
          986.4,
          986.4,
          993.6,
          977.5,
          991,
          1009.1
         ]
        },
        {
         "hoverinfo": "skip",
         "line": {
          "width": 2
         },
         "marker": {
          "size": 6
         },
         "mode": "lines+markers",
         "name": "Nico",
         "showlegend": true,
         "type": "scatter",
         "x": [
          0,
          1,
          2,
          3,
          4,
          5,
          6,
          7,
          8,
          9,
          10,
          11,
          12,
          13,
          14,
          15,
          16,
          17,
          18,
          19,
          20,
          21,
          22,
          23,
          24,
          25,
          26,
          27,
          28,
          29,
          30,
          31
         ],
         "y": [
          1000,
          984,
          984,
          970.2,
          995.2,
          999.3,
          1014.4,
          996.1,
          979.5,
          996.4,
          1035,
          1048,
          1059.8,
          1070.6,
          1070.6,
          1070.6,
          1070.6,
          1070.6,
          1070.6,
          1070.6,
          1070.6,
          1070.6,
          1070.6,
          1028.1,
          1041,
          1035.6,
          1047.9,
          1060.5,
          1040.6,
          1007.2,
          1036.5,
          1018.4
         ]
        },
        {
         "hoverinfo": "skip",
         "line": {
          "width": 2
         },
         "marker": {
          "size": 6
         },
         "mode": "lines+markers",
         "name": "Angel",
         "showlegend": true,
         "type": "scatter",
         "x": [
          0,
          1,
          2,
          3,
          4,
          5,
          6,
          7,
          8,
          9,
          10,
          11,
          12,
          13,
          14,
          15,
          16,
          17,
          18,
          19,
          20,
          21,
          22,
          23,
          24,
          25,
          26,
          27,
          28,
          29,
          30,
          31
         ],
         "y": [
          1000,
          1000,
          984.7,
          984.7,
          997.2,
          979.6,
          964.5,
          982.8,
          999.4,
          982.5,
          968.3,
          955.3,
          943.5,
          932.7,
          951.7,
          937.4,
          956.3,
          973.4,
          973.4,
          989.4,
          1005.9,
          1021.2,
          1035.1,
          1035.1,
          1035.1,
          1035.1,
          1035.1,
          1035.1,
          1035.1,
          1035.1,
          1036.5,
          1018.4
         ]
        },
        {
         "hoverinfo": "skip",
         "line": {
          "width": 2
         },
         "marker": {
          "size": 6
         },
         "mode": "lines+markers",
         "name": "Anthony",
         "showlegend": true,
         "type": "scatter",
         "x": [
          0,
          1,
          2,
          3,
          4,
          5,
          6,
          7,
          8,
          9,
          10,
          11,
          12,
          13,
          14,
          15,
          16,
          17,
          18,
          19,
          20,
          21,
          22,
          23,
          24,
          25,
          26,
          27,
          28,
          29,
          30,
          31
         ],
         "y": [
          1000,
          1000,
          984.7,
          984.7,
          995.2,
          979.6,
          964.5,
          982.8,
          999.4,
          982.5,
          968.3,
          955.3,
          943.5,
          932.7,
          951.7,
          937.4,
          956.3,
          973.4,
          973.4,
          989.4,
          1005.9,
          1021.2,
          1035.1,
          1035.1,
          1035.1,
          1035.1,
          1035.1,
          1035.1,
          1035.1,
          1035.1,
          991,
          1009.1
         ]
        },
        {
         "hoverinfo": "skip",
         "line": {
          "width": 2
         },
         "marker": {
          "size": 6
         },
         "mode": "lines+markers",
         "name": "Noa",
         "showlegend": true,
         "type": "scatter",
         "x": [
          0,
          1,
          2,
          3,
          4,
          5,
          6,
          7,
          8,
          9,
          10,
          11,
          12,
          13,
          14,
          15,
          16,
          17,
          18,
          19,
          20,
          21,
          22,
          23,
          24,
          25,
          26,
          27,
          28,
          29,
          30,
          31
         ],
         "y": [
          1000,
          1000,
          1000,
          1000,
          1000,
          1000,
          1000,
          1000,
          1000,
          1000,
          1000,
          1000,
          1000,
          1000,
          979.2,
          1002.5,
          1002.5,
          1002.5,
          967.2,
          957.2,
          957.2,
          957.2,
          957.2,
          957.2,
          946.8,
          946.8,
          946.8,
          946.8,
          946.8,
          946.8,
          946.8,
          946.8
         ]
        },
        {
         "hoverinfo": "skip",
         "line": {
          "width": 2
         },
         "marker": {
          "size": 6
         },
         "mode": "lines+markers",
         "name": "Daniel",
         "showlegend": true,
         "type": "scatter",
         "x": [
          0,
          1,
          2,
          3,
          4,
          5,
          6,
          7,
          8,
          9,
          10,
          11,
          12,
          13,
          14,
          15,
          16,
          17,
          18,
          19,
          20,
          21,
          22,
          23,
          24,
          25,
          26,
          27,
          28,
          29,
          30,
          31
         ],
         "y": [
          1000,
          1000,
          1000,
          1000,
          1000,
          1000,
          1000,
          1000,
          1000,
          1000,
          1000,
          1000,
          1000,
          1000,
          1000,
          1000,
          981.1,
          964,
          967.2,
          967.2,
          967.2,
          967.2,
          967.2,
          960.7,
          960.7,
          960.7,
          960.7,
          960.9,
          993.6,
          977.5,
          977.5,
          977.5
         ]
        },
        {
         "hoverinfo": "skip",
         "line": {
          "width": 2
         },
         "marker": {
          "size": 6
         },
         "mode": "lines+markers",
         "name": "Evan",
         "showlegend": true,
         "type": "scatter",
         "x": [
          0,
          1,
          2,
          3,
          4,
          5,
          6,
          7,
          8,
          9,
          10,
          11,
          12,
          13,
          14,
          15,
          16,
          17,
          18,
          19,
          20,
          21,
          22,
          23,
          24,
          25,
          26,
          27,
          28,
          29,
          30,
          31
         ],
         "y": [
          1000,
          1000,
          1000,
          1000,
          1000,
          1000,
          1000,
          1000,
          1000,
          1000,
          1000,
          1000,
          1000,
          1000,
          1000,
          1000,
          981.1,
          964,
          999.2,
          999.2,
          982.7,
          982.7,
          982.7,
          960.7,
          960.7,
          960.7,
          941.5,
          941.5,
          941.5,
          1007.2,
          1007.2,
          1007.2
         ]
        },
        {
         "hoverinfo": "skip",
         "line": {
          "width": 2
         },
         "marker": {
          "size": 6
         },
         "mode": "lines+markers",
         "name": "Madison",
         "showlegend": true,
         "type": "scatter",
         "x": [
          0,
          1,
          2,
          3,
          4,
          5,
          6,
          7,
          8,
          9,
          10,
          11,
          12,
          13,
          14,
          15,
          16,
          17,
          18,
          19,
          20,
          21,
          22,
          23,
          24,
          25,
          26,
          27,
          28,
          29,
          30,
          31
         ],
         "y": [
          1000,
          1000,
          1000,
          1000,
          1000,
          1000,
          1000,
          1000,
          1000,
          1000,
          1000,
          1000,
          1000,
          1000,
          1000,
          1000,
          1000,
          1000,
          1000,
          1000,
          1000,
          976,
          962.1,
          962.1,
          962.1,
          986.4,
          986.4,
          960.9,
          960.9,
          960.9,
          960.9,
          960.9
         ]
        },
        {
         "hoverinfo": "skip",
         "line": {
          "width": 2
         },
         "marker": {
          "size": 6
         },
         "mode": "lines+markers",
         "name": "Sarah",
         "showlegend": true,
         "type": "scatter",
         "x": [
          0,
          1,
          2,
          3,
          4,
          5,
          6,
          7,
          8,
          9,
          10,
          11,
          12,
          13,
          14,
          15,
          16,
          17,
          18,
          19,
          20,
          21,
          22,
          23,
          24,
          25,
          26,
          27,
          28,
          29,
          30,
          31
         ],
         "y": [
          1000,
          1000,
          1000,
          1000,
          1000,
          1000,
          1000,
          1000,
          1000,
          1000,
          1000,
          1000,
          1000,
          1000,
          1000,
          1000,
          1000,
          1000,
          1000,
          1000,
          1000,
          1000,
          1000,
          1000,
          1000,
          1035.6,
          1047.9,
          1060.5,
          1040.6,
          1040.6,
          1040.6,
          1040.6
         ]
        },
        {
         "customdata": [
          "Start - No changes yet",
          "<b>6/25/25 - Game 1</b><br><span style='color: green;'>Erick ▲ +16.0</span><br><span style='color: green;'>Miles ▲ +16.0</span><br><span style='color: red;'>Mathis ▼ -16.0</span><br><span style='color: red;'>Nico ▼ -16.0</span>",
          "<b>6/25/25 - Game 2</b><br><span style='color: green;'>Erick ▲ +15.3</span><br><span style='color: green;'>Miles ▲ +15.3</span><br><span style='color: red;'>Angel ▼ -15.3</span><br><span style='color: red;'>Anthony ▼ -15.3</span>",
          "<b>6/25/25 - Game 3</b><br><span style='color: green;'>Erick ▲ +13.8</span><br><span style='color: green;'>Miles ▲ +13.8</span><br><span style='color: red;'>Mathis ▼ -13.8</span><br><span style='color: red;'>Nico ▼ -13.8</span>",
          "<b>6/25/25 - Game 4</b><br><span style='color: red;'>Miles ▼ -47.9</span><br><span style='color: green;'>Nico ▲ +25.0</span><br><span style='color: green;'>Angel ▲ +12.5</span><br><span style='color: green;'>Anthony ▲ +10.5</span>",
          "<b>6/25/25 - Game 5</b><br><span style='color: green;'>Mathis ▲ +29.1</span><br><span style='color: green;'>Nico ▲ +4.1</span><br><span style='color: red;'>Angel ▼ -17.6</span><br><span style='color: red;'>Anthony ▼ -15.6</span>",
          "<b>6/25/25 - Game 6</b><br><span style='color: green;'>Mathis ▲ +15.1</span><br><span style='color: green;'>Nico ▲ +15.1</span><br><span style='color: red;'>Angel ▼ -15.1</span><br><span style='color: red;'>Anthony ▼ -15.1</span>",
          "<b>6/25/25 - Game 7</b><br><span style='color: red;'>Mathis ▼ -18.3</span><br><span style='color: red;'>Nico ▼ -18.3</span><br><span style='color: green;'>Angel ▲ +18.3</span><br><span style='color: green;'>Anthony ▲ +18.3</span>",
          "<b>6/25/25 - Game 8</b><br><span style='color: red;'>Mathis ▼ -16.6</span><br><span style='color: red;'>Nico ▼ -16.6</span><br><span style='color: green;'>Angel ▲ +16.6</span><br><span style='color: green;'>Anthony ▲ +16.6</span>",
          "<b>6/25/25 - Game 9</b><br><span style='color: green;'>Mathis ▲ +16.9</span><br><span style='color: green;'>Nico ▲ +16.9</span><br><span style='color: red;'>Angel ▼ -16.9</span><br><span style='color: red;'>Anthony ▼ -16.9</span>",
          "<b>7/21/25 - Game 1</b><br><span style='color: red;'>Erick ▼ -10.1</span><br><span style='color: green;'>Nico ▲ +38.6</span><br><span style='color: red;'>Angel ▼ -14.2</span><br><span style='color: red;'>Anthony ▼ -14.2</span>",
          "<b>7/21/25 - Game 2</b><br><span style='color: green;'>Erick ▲ +13.0</span><br><span style='color: green;'>Nico ▲ +13.0</span><br><span style='color: red;'>Angel ▼ -13.0</span><br><span style='color: red;'>Anthony ▼ -13.0</span>",
          "<b>7/21/25 - Game 3</b><br><span style='color: green;'>Erick ▲ +11.8</span><br><span style='color: green;'>Nico ▲ +11.8</span><br><span style='color: red;'>Angel ▼ -11.8</span><br><span style='color: red;'>Anthony ▼ -11.8</span>",
          "<b>7/21/25 - Game 4</b><br><span style='color: green;'>Erick ▲ +10.8</span><br><span style='color: green;'>Nico ▲ +10.8</span><br><span style='color: red;'>Angel ▼ -10.8</span><br><span style='color: red;'>Anthony ▼ -10.8</span>",
          "<b>7/23/25 - Game 1</b><br><span style='color: red;'>Mathis ▼ -17.2</span><br><span style='color: green;'>Angel ▲ +19.0</span><br><span style='color: green;'>Anthony ▲ +19.0</span><br><span style='color: red;'>Noa ▼ -20.8</span>",
          "<b>7/23/25 - Game 2</b><br><span style='color: green;'>Miles ▲ +5.3</span><br><span style='color: red;'>Angel ▼ -14.3</span><br><span style='color: red;'>Anthony ▼ -14.3</span><br><span style='color: green;'>Noa ▲ +23.3</span>",
          "<b>7/23/25 - Game 3</b><br><span style='color: green;'>Angel ▲ +18.9</span><br><span style='color: green;'>Anthony ▲ +18.9</span><br><span style='color: red;'>Daniel ▼ -18.9</span><br><span style='color: red;'>Evan ▼ -18.9</span>",
          "<b>7/23/25 - Game 4</b><br><span style='color: green;'>Angel ▲ +17.1</span><br><span style='color: green;'>Anthony ▲ +17.1</span><br><span style='color: red;'>Daniel ▼ -17.1</span><br><span style='color: red;'>Evan ▼ -17.1</span>",
          "<b>7/23/25 - Game 5</b><br><span style='color: red;'>Miles ▼ -3.3</span><br><span style='color: red;'>Noa ▼ -35.3</span><br><span style='color: green;'>Daniel ▲ +3.2</span><br><span style='color: green;'>Evan ▲ +35.2</span>",
          "<b>7/23/25 - Game 6</b><br><span style='color: red;'>Mathis ▼ -22.0</span><br><span style='color: green;'>Angel ▲ +16.0</span><br><span style='color: green;'>Anthony ▲ +16.0</span><br><span style='color: red;'>Noa ▼ -10.0</span>",
          "<b>7/23/25 - Game 7</b><br><span style='color: red;'>Miles ▼ -16.5</span><br><span style='color: green;'>Angel ▲ +16.5</span><br><span style='color: green;'>Anthony ▲ +16.5</span><br><span style='color: red;'>Evan ▼ -16.5</span>",
          "<b>7/23/25 - Game 8</b><br><span style='color: red;'>Miles ▼ -6.7</span><br><span style='color: green;'>Angel ▲ +15.3</span><br><span style='color: green;'>Anthony ▲ +15.3</span><br><span style='color: red;'>Madison ▼ -24.0</span>",
          "<b>7/23/25 - Game 9</b><br><span style='color: red;'>Miles ▼ -13.9</span><br><span style='color: green;'>Angel ▲ +13.9</span><br><span style='color: green;'>Anthony ▲ +13.9</span><br><span style='color: red;'>Madison ▼ -13.9</span>",
          "<b>7/23/25 - Game 10</b><br><span style='color: green;'>Mathis ▲ +70.9</span><br><span style='color: red;'>Nico ▼ -42.5</span><br><span style='color: red;'>Daniel ▼ -6.5</span><br><span style='color: red;'>Evan ▼ -22.0</span>",
          "<b>7/23/25 - Game 11</b><br><span style='color: red;'>Miles ▼ -15.3</span><br><span style='color: green;'>Mathis ▲ +12.9</span><br><span style='color: green;'>Nico ▲ +12.9</span><br><span style='color: red;'>Noa ▼ -10.4</span>",
          "<b>7/23/25 - Game 12</b><br><span style='color: red;'>Mathis ▼ -54.6</span><br><span style='color: red;'>Nico ▼ -5.4</span><br><span style='color: green;'>Madison ▲ +24.3</span><br><span style='color: green;'>Sarah ▲ +35.6</span>",
          "<b>7/23/25 - Game 13</b><br><span style='color: red;'>Miles ▼ -5.3</span><br><span style='color: green;'>Nico ▲ +12.3</span><br><span style='color: red;'>Evan ▼ -19.2</span><br><span style='color: green;'>Sarah ▲ +12.3</span>",
          "<b>7/23/25 - Game 14</b><br><span style='color: green;'>Nico ▲ +12.6</span><br><span style='color: green;'>Daniel ▲ +0.2</span><br><span style='color: red;'>Madison ▼ -25.5</span><br><span style='color: green;'>Sarah ▲ +12.6</span>",
          "<b>7/23/25 - Game 15</b><br><span style='color: green;'>Mathis ▲ +7.2</span><br><span style='color: red;'>Nico ▼ -19.9</span><br><span style='color: green;'>Daniel ▲ +32.7</span><br><span style='color: red;'>Sarah ▼ -19.9</span>",
          "<b>7/23/25 - Game 16</b><br><span style='color: red;'>Mathis ▼ -16.1</span><br><span style='color: red;'>Nico ▼ -33.4</span><br><span style='color: red;'>Daniel ▼ -16.1</span><br><span style='color: green;'>Evan ▲ +65.7</span>",
          "<b>7/23/25 - Game 17</b><br><span style='color: green;'>Mathis ▲ +13.5</span><br><span style='color: green;'>Nico ▲ +29.3</span><br><span style='color: green;'>Angel ▲ +1.4</span><br><span style='color: red;'>Anthony ▼ -44.1</span>",
          "<b>7/23/25 - Game 18</b><br><span style='color: green;'>Mathis ▲ +18.1</span><br><span style='color: red;'>Nico ▼ -18.1</span><br><span style='color: red;'>Angel ▼ -18.1</span><br><span style='color: green;'>Anthony ▲ +18.1</span>"
         ],
         "hoverinfo": "text",
         "hovertemplate": "%{customdata}<extra></extra>",
         "marker": {
          "opacity": 0,
          "size": 10
         },
         "mode": "markers",
         "name": "Game Info",
         "showlegend": false,
         "text": [
          "Start - No changes yet",
          "<b>6/25/25 - Game 1</b><br><span style='color: green;'>Erick ▲ +16.0</span><br><span style='color: green;'>Miles ▲ +16.0</span><br><span style='color: red;'>Mathis ▼ -16.0</span><br><span style='color: red;'>Nico ▼ -16.0</span>",
          "<b>6/25/25 - Game 2</b><br><span style='color: green;'>Erick ▲ +15.3</span><br><span style='color: green;'>Miles ▲ +15.3</span><br><span style='color: red;'>Angel ▼ -15.3</span><br><span style='color: red;'>Anthony ▼ -15.3</span>",
          "<b>6/25/25 - Game 3</b><br><span style='color: green;'>Erick ▲ +13.8</span><br><span style='color: green;'>Miles ▲ +13.8</span><br><span style='color: red;'>Mathis ▼ -13.8</span><br><span style='color: red;'>Nico ▼ -13.8</span>",
          "<b>6/25/25 - Game 4</b><br><span style='color: red;'>Miles ▼ -47.9</span><br><span style='color: green;'>Nico ▲ +25.0</span><br><span style='color: green;'>Angel ▲ +12.5</span><br><span style='color: green;'>Anthony ▲ +10.5</span>",
          "<b>6/25/25 - Game 5</b><br><span style='color: green;'>Mathis ▲ +29.1</span><br><span style='color: green;'>Nico ▲ +4.1</span><br><span style='color: red;'>Angel ▼ -17.6</span><br><span style='color: red;'>Anthony ▼ -15.6</span>",
          "<b>6/25/25 - Game 6</b><br><span style='color: green;'>Mathis ▲ +15.1</span><br><span style='color: green;'>Nico ▲ +15.1</span><br><span style='color: red;'>Angel ▼ -15.1</span><br><span style='color: red;'>Anthony ▼ -15.1</span>",
          "<b>6/25/25 - Game 7</b><br><span style='color: red;'>Mathis ▼ -18.3</span><br><span style='color: red;'>Nico ▼ -18.3</span><br><span style='color: green;'>Angel ▲ +18.3</span><br><span style='color: green;'>Anthony ▲ +18.3</span>",
          "<b>6/25/25 - Game 8</b><br><span style='color: red;'>Mathis ▼ -16.6</span><br><span style='color: red;'>Nico ▼ -16.6</span><br><span style='color: green;'>Angel ▲ +16.6</span><br><span style='color: green;'>Anthony ▲ +16.6</span>",
          "<b>6/25/25 - Game 9</b><br><span style='color: green;'>Mathis ▲ +16.9</span><br><span style='color: green;'>Nico ▲ +16.9</span><br><span style='color: red;'>Angel ▼ -16.9</span><br><span style='color: red;'>Anthony ▼ -16.9</span>",
          "<b>7/21/25 - Game 1</b><br><span style='color: red;'>Erick ▼ -10.1</span><br><span style='color: green;'>Nico ▲ +38.6</span><br><span style='color: red;'>Angel ▼ -14.2</span><br><span style='color: red;'>Anthony ▼ -14.2</span>",
          "<b>7/21/25 - Game 2</b><br><span style='color: green;'>Erick ▲ +13.0</span><br><span style='color: green;'>Nico ▲ +13.0</span><br><span style='color: red;'>Angel ▼ -13.0</span><br><span style='color: red;'>Anthony ▼ -13.0</span>",
          "<b>7/21/25 - Game 3</b><br><span style='color: green;'>Erick ▲ +11.8</span><br><span style='color: green;'>Nico ▲ +11.8</span><br><span style='color: red;'>Angel ▼ -11.8</span><br><span style='color: red;'>Anthony ▼ -11.8</span>",
          "<b>7/21/25 - Game 4</b><br><span style='color: green;'>Erick ▲ +10.8</span><br><span style='color: green;'>Nico ▲ +10.8</span><br><span style='color: red;'>Angel ▼ -10.8</span><br><span style='color: red;'>Anthony ▼ -10.8</span>",
          "<b>7/23/25 - Game 1</b><br><span style='color: red;'>Mathis ▼ -17.2</span><br><span style='color: green;'>Angel ▲ +19.0</span><br><span style='color: green;'>Anthony ▲ +19.0</span><br><span style='color: red;'>Noa ▼ -20.8</span>",
          "<b>7/23/25 - Game 2</b><br><span style='color: green;'>Miles ▲ +5.3</span><br><span style='color: red;'>Angel ▼ -14.3</span><br><span style='color: red;'>Anthony ▼ -14.3</span><br><span style='color: green;'>Noa ▲ +23.3</span>",
          "<b>7/23/25 - Game 3</b><br><span style='color: green;'>Angel ▲ +18.9</span><br><span style='color: green;'>Anthony ▲ +18.9</span><br><span style='color: red;'>Daniel ▼ -18.9</span><br><span style='color: red;'>Evan ▼ -18.9</span>",
          "<b>7/23/25 - Game 4</b><br><span style='color: green;'>Angel ▲ +17.1</span><br><span style='color: green;'>Anthony ▲ +17.1</span><br><span style='color: red;'>Daniel ▼ -17.1</span><br><span style='color: red;'>Evan ▼ -17.1</span>",
          "<b>7/23/25 - Game 5</b><br><span style='color: red;'>Miles ▼ -3.3</span><br><span style='color: red;'>Noa ▼ -35.3</span><br><span style='color: green;'>Daniel ▲ +3.2</span><br><span style='color: green;'>Evan ▲ +35.2</span>",
          "<b>7/23/25 - Game 6</b><br><span style='color: red;'>Mathis ▼ -22.0</span><br><span style='color: green;'>Angel ▲ +16.0</span><br><span style='color: green;'>Anthony ▲ +16.0</span><br><span style='color: red;'>Noa ▼ -10.0</span>",
          "<b>7/23/25 - Game 7</b><br><span style='color: red;'>Miles ▼ -16.5</span><br><span style='color: green;'>Angel ▲ +16.5</span><br><span style='color: green;'>Anthony ▲ +16.5</span><br><span style='color: red;'>Evan ▼ -16.5</span>",
          "<b>7/23/25 - Game 8</b><br><span style='color: red;'>Miles ▼ -6.7</span><br><span style='color: green;'>Angel ▲ +15.3</span><br><span style='color: green;'>Anthony ▲ +15.3</span><br><span style='color: red;'>Madison ▼ -24.0</span>",
          "<b>7/23/25 - Game 9</b><br><span style='color: red;'>Miles ▼ -13.9</span><br><span style='color: green;'>Angel ▲ +13.9</span><br><span style='color: green;'>Anthony ▲ +13.9</span><br><span style='color: red;'>Madison ▼ -13.9</span>",
          "<b>7/23/25 - Game 10</b><br><span style='color: green;'>Mathis ▲ +70.9</span><br><span style='color: red;'>Nico ▼ -42.5</span><br><span style='color: red;'>Daniel ▼ -6.5</span><br><span style='color: red;'>Evan ▼ -22.0</span>",
          "<b>7/23/25 - Game 11</b><br><span style='color: red;'>Miles ▼ -15.3</span><br><span style='color: green;'>Mathis ▲ +12.9</span><br><span style='color: green;'>Nico ▲ +12.9</span><br><span style='color: red;'>Noa ▼ -10.4</span>",
          "<b>7/23/25 - Game 12</b><br><span style='color: red;'>Mathis ▼ -54.6</span><br><span style='color: red;'>Nico ▼ -5.4</span><br><span style='color: green;'>Madison ▲ +24.3</span><br><span style='color: green;'>Sarah ▲ +35.6</span>",
          "<b>7/23/25 - Game 13</b><br><span style='color: red;'>Miles ▼ -5.3</span><br><span style='color: green;'>Nico ▲ +12.3</span><br><span style='color: red;'>Evan ▼ -19.2</span><br><span style='color: green;'>Sarah ▲ +12.3</span>",
          "<b>7/23/25 - Game 14</b><br><span style='color: green;'>Nico ▲ +12.6</span><br><span style='color: green;'>Daniel ▲ +0.2</span><br><span style='color: red;'>Madison ▼ -25.5</span><br><span style='color: green;'>Sarah ▲ +12.6</span>",
          "<b>7/23/25 - Game 15</b><br><span style='color: green;'>Mathis ▲ +7.2</span><br><span style='color: red;'>Nico ▼ -19.9</span><br><span style='color: green;'>Daniel ▲ +32.7</span><br><span style='color: red;'>Sarah ▼ -19.9</span>",
          "<b>7/23/25 - Game 16</b><br><span style='color: red;'>Mathis ▼ -16.1</span><br><span style='color: red;'>Nico ▼ -33.4</span><br><span style='color: red;'>Daniel ▼ -16.1</span><br><span style='color: green;'>Evan ▲ +65.7</span>",
          "<b>7/23/25 - Game 17</b><br><span style='color: green;'>Mathis ▲ +13.5</span><br><span style='color: green;'>Nico ▲ +29.3</span><br><span style='color: green;'>Angel ▲ +1.4</span><br><span style='color: red;'>Anthony ▼ -44.1</span>",
          "<b>7/23/25 - Game 18</b><br><span style='color: green;'>Mathis ▲ +18.1</span><br><span style='color: red;'>Nico ▼ -18.1</span><br><span style='color: red;'>Angel ▼ -18.1</span><br><span style='color: green;'>Anthony ▲ +18.1</span>"
         ],
         "type": "scatter",
         "visible": true,
         "x": [
          0,
          1,
          2,
          3,
          4,
          5,
          6,
          7,
          8,
          9,
          10,
          11,
          12,
          13,
          14,
          15,
          16,
          17,
          18,
          19,
          20,
          21,
          22,
          23,
          24,
          25,
          26,
          27,
          28,
          29,
          30,
          31
         ],
         "y": [
          1000,
          1000,
          1000,
          1000,
          1000,
          1000,
          1000,
          1000,
          1000,
          1000,
          1000,
          1000,
          1000,
          1000,
          1000,
          1000,
          1000,
          1000,
          1000,
          1000,
          1000,
          1000,
          1000,
          1000,
          1000,
          1000,
          1000,
          1000,
          1000,
          1000,
          1000,
          1000
         ]
        }
       ],
       "layout": {
        "height": 700,
        "hovermode": "x unified",
        "legend": {
         "orientation": "v",
         "x": 1.02,
         "xanchor": "left",
         "y": 1,
         "yanchor": "top"
        },
        "margin": {
         "r": 150,
         "t": 130
        },
        "template": {
         "data": {
          "bar": [
           {
            "error_x": {
             "color": "#2a3f5f"
            },
            "error_y": {
             "color": "#2a3f5f"
            },
            "marker": {
             "line": {
              "color": "#E5ECF6",
              "width": 0.5
             },
             "pattern": {
              "fillmode": "overlay",
              "size": 10,
              "solidity": 0.2
             }
            },
            "type": "bar"
           }
          ],
          "barpolar": [
           {
            "marker": {
             "line": {
              "color": "#E5ECF6",
              "width": 0.5
             },
             "pattern": {
              "fillmode": "overlay",
              "size": 10,
              "solidity": 0.2
             }
            },
            "type": "barpolar"
           }
          ],
          "carpet": [
           {
            "aaxis": {
             "endlinecolor": "#2a3f5f",
             "gridcolor": "white",
             "linecolor": "white",
             "minorgridcolor": "white",
             "startlinecolor": "#2a3f5f"
            },
            "baxis": {
             "endlinecolor": "#2a3f5f",
             "gridcolor": "white",
             "linecolor": "white",
             "minorgridcolor": "white",
             "startlinecolor": "#2a3f5f"
            },
            "type": "carpet"
           }
          ],
          "choropleth": [
           {
            "colorbar": {
             "outlinewidth": 0,
             "ticks": ""
            },
            "type": "choropleth"
           }
          ],
          "contour": [
           {
            "colorbar": {
             "outlinewidth": 0,
             "ticks": ""
            },
            "colorscale": [
             [
              0,
              "#0d0887"
             ],
             [
              0.1111111111111111,
              "#46039f"
             ],
             [
              0.2222222222222222,
              "#7201a8"
             ],
             [
              0.3333333333333333,
              "#9c179e"
             ],
             [
              0.4444444444444444,
              "#bd3786"
             ],
             [
              0.5555555555555556,
              "#d8576b"
             ],
             [
              0.6666666666666666,
              "#ed7953"
             ],
             [
              0.7777777777777778,
              "#fb9f3a"
             ],
             [
              0.8888888888888888,
              "#fdca26"
             ],
             [
              1,
              "#f0f921"
             ]
            ],
            "type": "contour"
           }
          ],
          "contourcarpet": [
           {
            "colorbar": {
             "outlinewidth": 0,
             "ticks": ""
            },
            "type": "contourcarpet"
           }
          ],
          "heatmap": [
           {
            "colorbar": {
             "outlinewidth": 0,
             "ticks": ""
            },
            "colorscale": [
             [
              0,
              "#0d0887"
             ],
             [
              0.1111111111111111,
              "#46039f"
             ],
             [
              0.2222222222222222,
              "#7201a8"
             ],
             [
              0.3333333333333333,
              "#9c179e"
             ],
             [
              0.4444444444444444,
              "#bd3786"
             ],
             [
              0.5555555555555556,
              "#d8576b"
             ],
             [
              0.6666666666666666,
              "#ed7953"
             ],
             [
              0.7777777777777778,
              "#fb9f3a"
             ],
             [
              0.8888888888888888,
              "#fdca26"
             ],
             [
              1,
              "#f0f921"
             ]
            ],
            "type": "heatmap"
           }
          ],
          "histogram": [
           {
            "marker": {
             "pattern": {
              "fillmode": "overlay",
              "size": 10,
              "solidity": 0.2
             }
            },
            "type": "histogram"
           }
          ],
          "histogram2d": [
           {
            "colorbar": {
             "outlinewidth": 0,
             "ticks": ""
            },
            "colorscale": [
             [
              0,
              "#0d0887"
             ],
             [
              0.1111111111111111,
              "#46039f"
             ],
             [
              0.2222222222222222,
              "#7201a8"
             ],
             [
              0.3333333333333333,
              "#9c179e"
             ],
             [
              0.4444444444444444,
              "#bd3786"
             ],
             [
              0.5555555555555556,
              "#d8576b"
             ],
             [
              0.6666666666666666,
              "#ed7953"
             ],
             [
              0.7777777777777778,
              "#fb9f3a"
             ],
             [
              0.8888888888888888,
              "#fdca26"
             ],
             [
              1,
              "#f0f921"
             ]
            ],
            "type": "histogram2d"
           }
          ],
          "histogram2dcontour": [
           {
            "colorbar": {
             "outlinewidth": 0,
             "ticks": ""
            },
            "colorscale": [
             [
              0,
              "#0d0887"
             ],
             [
              0.1111111111111111,
              "#46039f"
             ],
             [
              0.2222222222222222,
              "#7201a8"
             ],
             [
              0.3333333333333333,
              "#9c179e"
             ],
             [
              0.4444444444444444,
              "#bd3786"
             ],
             [
              0.5555555555555556,
              "#d8576b"
             ],
             [
              0.6666666666666666,
              "#ed7953"
             ],
             [
              0.7777777777777778,
              "#fb9f3a"
             ],
             [
              0.8888888888888888,
              "#fdca26"
             ],
             [
              1,
              "#f0f921"
             ]
            ],
            "type": "histogram2dcontour"
           }
          ],
          "mesh3d": [
           {
            "colorbar": {
             "outlinewidth": 0,
             "ticks": ""
            },
            "type": "mesh3d"
           }
          ],
          "parcoords": [
           {
            "line": {
             "colorbar": {
              "outlinewidth": 0,
              "ticks": ""
             }
            },
            "type": "parcoords"
           }
          ],
          "pie": [
           {
            "automargin": true,
            "type": "pie"
           }
          ],
          "scatter": [
           {
            "fillpattern": {
             "fillmode": "overlay",
             "size": 10,
             "solidity": 0.2
            },
            "type": "scatter"
           }
          ],
          "scatter3d": [
           {
            "line": {
             "colorbar": {
              "outlinewidth": 0,
              "ticks": ""
             }
            },
            "marker": {
             "colorbar": {
              "outlinewidth": 0,
              "ticks": ""
             }
            },
            "type": "scatter3d"
           }
          ],
          "scattercarpet": [
           {
            "marker": {
             "colorbar": {
              "outlinewidth": 0,
              "ticks": ""
             }
            },
            "type": "scattercarpet"
           }
          ],
          "scattergeo": [
           {
            "marker": {
             "colorbar": {
              "outlinewidth": 0,
              "ticks": ""
             }
            },
            "type": "scattergeo"
           }
          ],
          "scattergl": [
           {
            "marker": {
             "colorbar": {
              "outlinewidth": 0,
              "ticks": ""
             }
            },
            "type": "scattergl"
           }
          ],
          "scattermap": [
           {
            "marker": {
             "colorbar": {
              "outlinewidth": 0,
              "ticks": ""
             }
            },
            "type": "scattermap"
           }
          ],
          "scattermapbox": [
           {
            "marker": {
             "colorbar": {
              "outlinewidth": 0,
              "ticks": ""
             }
            },
            "type": "scattermapbox"
           }
          ],
          "scatterpolar": [
           {
            "marker": {
             "colorbar": {
              "outlinewidth": 0,
              "ticks": ""
             }
            },
            "type": "scatterpolar"
           }
          ],
          "scatterpolargl": [
           {
            "marker": {
             "colorbar": {
              "outlinewidth": 0,
              "ticks": ""
             }
            },
            "type": "scatterpolargl"
           }
          ],
          "scatterternary": [
           {
            "marker": {
             "colorbar": {
              "outlinewidth": 0,
              "ticks": ""
             }
            },
            "type": "scatterternary"
           }
          ],
          "surface": [
           {
            "colorbar": {
             "outlinewidth": 0,
             "ticks": ""
            },
            "colorscale": [
             [
              0,
              "#0d0887"
             ],
             [
              0.1111111111111111,
              "#46039f"
             ],
             [
              0.2222222222222222,
              "#7201a8"
             ],
             [
              0.3333333333333333,
              "#9c179e"
             ],
             [
              0.4444444444444444,
              "#bd3786"
             ],
             [
              0.5555555555555556,
              "#d8576b"
             ],
             [
              0.6666666666666666,
              "#ed7953"
             ],
             [
              0.7777777777777778,
              "#fb9f3a"
             ],
             [
              0.8888888888888888,
              "#fdca26"
             ],
             [
              1,
              "#f0f921"
             ]
            ],
            "type": "surface"
           }
          ],
          "table": [
           {
            "cells": {
             "fill": {
              "color": "#EBF0F8"
             },
             "line": {
              "color": "white"
             }
            },
            "header": {
             "fill": {
              "color": "#C8D4E3"
             },
             "line": {
              "color": "white"
             }
            },
            "type": "table"
           }
          ]
         },
         "layout": {
          "annotationdefaults": {
           "arrowcolor": "#2a3f5f",
           "arrowhead": 0,
           "arrowwidth": 1
          },
          "autotypenumbers": "strict",
          "coloraxis": {
           "colorbar": {
            "outlinewidth": 0,
            "ticks": ""
           }
          },
          "colorscale": {
           "diverging": [
            [
             0,
             "#8e0152"
            ],
            [
             0.1,
             "#c51b7d"
            ],
            [
             0.2,
             "#de77ae"
            ],
            [
             0.3,
             "#f1b6da"
            ],
            [
             0.4,
             "#fde0ef"
            ],
            [
             0.5,
             "#f7f7f7"
            ],
            [
             0.6,
             "#e6f5d0"
            ],
            [
             0.7,
             "#b8e186"
            ],
            [
             0.8,
             "#7fbc41"
            ],
            [
             0.9,
             "#4d9221"
            ],
            [
             1,
             "#276419"
            ]
           ],
           "sequential": [
            [
             0,
             "#0d0887"
            ],
            [
             0.1111111111111111,
             "#46039f"
            ],
            [
             0.2222222222222222,
             "#7201a8"
            ],
            [
             0.3333333333333333,
             "#9c179e"
            ],
            [
             0.4444444444444444,
             "#bd3786"
            ],
            [
             0.5555555555555556,
             "#d8576b"
            ],
            [
             0.6666666666666666,
             "#ed7953"
            ],
            [
             0.7777777777777778,
             "#fb9f3a"
            ],
            [
             0.8888888888888888,
             "#fdca26"
            ],
            [
             1,
             "#f0f921"
            ]
           ],
           "sequentialminus": [
            [
             0,
             "#0d0887"
            ],
            [
             0.1111111111111111,
             "#46039f"
            ],
            [
             0.2222222222222222,
             "#7201a8"
            ],
            [
             0.3333333333333333,
             "#9c179e"
            ],
            [
             0.4444444444444444,
             "#bd3786"
            ],
            [
             0.5555555555555556,
             "#d8576b"
            ],
            [
             0.6666666666666666,
             "#ed7953"
            ],
            [
             0.7777777777777778,
             "#fb9f3a"
            ],
            [
             0.8888888888888888,
             "#fdca26"
            ],
            [
             1,
             "#f0f921"
            ]
           ]
          },
          "colorway": [
           "#636efa",
           "#EF553B",
           "#00cc96",
           "#ab63fa",
           "#FFA15A",
           "#19d3f3",
           "#FF6692",
           "#B6E880",
           "#FF97FF",
           "#FECB52"
          ],
          "font": {
           "color": "#2a3f5f"
          },
          "geo": {
           "bgcolor": "white",
           "lakecolor": "white",
           "landcolor": "#E5ECF6",
           "showlakes": true,
           "showland": true,
           "subunitcolor": "white"
          },
          "hoverlabel": {
           "align": "left"
          },
          "hovermode": "closest",
          "mapbox": {
           "style": "light"
          },
          "paper_bgcolor": "white",
          "plot_bgcolor": "#E5ECF6",
          "polar": {
           "angularaxis": {
            "gridcolor": "white",
            "linecolor": "white",
            "ticks": ""
           },
           "bgcolor": "#E5ECF6",
           "radialaxis": {
            "gridcolor": "white",
            "linecolor": "white",
            "ticks": ""
           }
          },
          "scene": {
           "xaxis": {
            "backgroundcolor": "#E5ECF6",
            "gridcolor": "white",
            "gridwidth": 2,
            "linecolor": "white",
            "showbackground": true,
            "ticks": "",
            "zerolinecolor": "white"
           },
           "yaxis": {
            "backgroundcolor": "#E5ECF6",
            "gridcolor": "white",
            "gridwidth": 2,
            "linecolor": "white",
            "showbackground": true,
            "ticks": "",
            "zerolinecolor": "white"
           },
           "zaxis": {
            "backgroundcolor": "#E5ECF6",
            "gridcolor": "white",
            "gridwidth": 2,
            "linecolor": "white",
            "showbackground": true,
            "ticks": "",
            "zerolinecolor": "white"
           }
          },
          "shapedefaults": {
           "line": {
            "color": "#2a3f5f"
           }
          },
          "ternary": {
           "aaxis": {
            "gridcolor": "white",
            "linecolor": "white",
            "ticks": ""
           },
           "baxis": {
            "gridcolor": "white",
            "linecolor": "white",
            "ticks": ""
           },
           "bgcolor": "#E5ECF6",
           "caxis": {
            "gridcolor": "white",
            "linecolor": "white",
            "ticks": ""
           }
          },
          "title": {
           "x": 0.05
          },
          "xaxis": {
           "automargin": true,
           "gridcolor": "white",
           "linecolor": "white",
           "ticks": "",
           "title": {
            "standoff": 15
           },
           "zerolinecolor": "white",
           "zerolinewidth": 2
          },
          "yaxis": {
           "automargin": true,
           "gridcolor": "white",
           "linecolor": "white",
           "ticks": "",
           "title": {
            "standoff": 15
           },
           "zerolinecolor": "white",
           "zerolinewidth": 2
          }
         }
        },
        "title": {
         "font": {
          "size": 16
         },
         "pad": {
          "b": 20
         },
         "text": "ELO Rating Progression Over Time<br><sub>Click legend entries to show/hide players • Double-click to isolate</sub> <br><sub>Click on Game/Player buttons to change what hover shows (starts in Game)</sub><br>",
         "x": 0.5
        },
        "updatemenus": [
         {
          "active": 0,
          "buttons": [
           {
            "args": [
             {
              "hoverinfo": [
               "skip",
               "skip",
               "skip",
               "skip",
               "skip",
               "skip",
               "skip",
               "skip",
               "skip",
               "skip",
               "skip",
               "text"
              ],
              "hovertemplate": [
               null,
               null,
               null,
               null,
               null,
               null,
               null,
               null,
               null,
               null,
               null,
               "%{customdata}<extra></extra>"
              ],
              "visible": [
               true,
               true,
               true,
               true,
               true,
               true,
               true,
               true,
               true,
               true,
               true,
               true
              ]
             },
             {
              "hovermode": "x unified"
             }
            ],
            "label": "Game",
            "method": "update"
           },
           {
            "args": [
             {
              "hoverinfo": [
               "x+y+name",
               "x+y+name",
               "x+y+name",
               "x+y+name",
               "x+y+name",
               "x+y+name",
               "x+y+name",
               "x+y+name",
               "x+y+name",
               "x+y+name",
               "x+y+name",
               "skip"
              ],
              "visible": [
               true,
               true,
               true,
               true,
               true,
               true,
               true,
               true,
               true,
               true,
               true,
               false
              ]
             },
             {
              "hovermode": "x unified"
             }
            ],
            "label": "Player",
            "method": "update"
           }
          ],
          "direction": "left",
          "pad": {
           "r": 10,
           "t": 10
          },
          "showactive": true,
          "type": "buttons",
          "x": 0,
          "xanchor": "left",
          "y": 1.15,
          "yanchor": "top"
         }
        ],
        "width": 1100,
        "xaxis": {
         "gridcolor": "lightgray",
         "gridwidth": 1,
         "showgrid": true,
         "tickangle": 45,
         "tickmode": "array",
         "ticktext": [
          "Start",
          "6/25/25",
          "7/21/25",
          "7/23/25"
         ],
         "tickvals": [
          0,
          5,
          11.5,
          22.5
         ],
         "title": {
          "text": "Date / Games"
         }
        },
        "yaxis": {
         "gridcolor": "lightgray",
         "gridwidth": 1,
         "showgrid": true,
         "title": {
          "text": "ELO Rating"
         }
        }
       }
      }
     },
     "metadata": {},
     "output_type": "display_data"
    }
   ],
   "source": [
    "import plotly.graph_objects as go\n",
    "\n",
    "# Prepare data for plotting\n",
    "x_positions = []\n",
    "x_labels = []\n",
    "all_player_data = {player: [] for player in players}\n",
    "hover_data = []  # Store custom hover info for each x position\n",
    "x_pos = 0\n",
    "\n",
    "# Add original scores (first entry in the \"original\" list)\n",
    "original_scores = elo_history[\"original\"][0]\n",
    "for player in players:\n",
    "    all_player_data[player].append(original_scores[player])\n",
    "\n",
    "x_positions.append(x_pos)\n",
    "x_labels.append(\"Start\")\n",
    "# For the start position, no changes to show\n",
    "hover_data.append(\"Start - No changes yet\")\n",
    "x_pos += 1\n",
    "\n",
    "# Process each date\n",
    "for date_key in sorted(elo_history.keys()):\n",
    "    if date_key == \"original\":\n",
    "        continue\n",
    "    \n",
    "    games_on_date = elo_history[date_key]\n",
    "    \n",
    "    # Add each game for this date\n",
    "    for game_idx, game_scores in enumerate(games_on_date):\n",
    "        # Calculate changes from previous game\n",
    "        changes = []\n",
    "        previous_scores = {}\n",
    "        \n",
    "        # Get previous scores (from the last entry in all_player_data)\n",
    "        for player in players:\n",
    "            previous_scores[player] = all_player_data[player][-1]\n",
    "        \n",
    "        # Add current game scores and calculate changes\n",
    "        for player in players:\n",
    "            current_score = game_scores[player]\n",
    "            previous_score = previous_scores[player]\n",
    "            change = current_score - previous_score\n",
    "            \n",
    "            all_player_data[player].append(current_score)\n",
    "            \n",
    "            # Only include players who changed\n",
    "            if change != 0:\n",
    "                if change > 0:\n",
    "                    triangle = \"▲\"  # Green up triangle\n",
    "                    color_start = \"<span style='color: green;'>\"\n",
    "                else:\n",
    "                    triangle = \"▼\"  # Red down triangle\n",
    "                    color_start = \"<span style='color: red;'>\"\n",
    "                \n",
    "                changes.append(f\"{color_start}{player} {triangle} {change:+.1f}</span>\")\n",
    "        \n",
    "        x_positions.append(x_pos)\n",
    "        \n",
    "        # Create hover text for this game\n",
    "        if changes:\n",
    "            hover_text = f\"<b>{date_key} - Game {game_idx + 1}</b><br>\" + \"<br>\".join(changes)\n",
    "        else:\n",
    "            hover_text = f\"<b>{date_key} - Game {game_idx + 1}</b><br>No ELO changes\"\n",
    "        \n",
    "        hover_data.append(hover_text)\n",
    "        x_pos += 1\n",
    "    \n",
    "    # Add date label at the middle of games for this date\n",
    "    if len(games_on_date) > 1:\n",
    "        middle_pos = x_pos - len(games_on_date) + (len(games_on_date) - 1) / 2\n",
    "    else:\n",
    "        middle_pos = x_pos - 1\n",
    "    x_labels.append((middle_pos, date_key))\n",
    "\n",
    "# Create the figure\n",
    "fig = go.Figure()\n",
    "\n",
    "# Add a trace for each player\n",
    "for i, player in enumerate(players):\n",
    "    fig.add_trace(go.Scatter(\n",
    "        x=x_positions,\n",
    "        y=all_player_data[player],\n",
    "        mode='lines+markers',\n",
    "        name=player,\n",
    "        line=dict(width=2),\n",
    "        marker=dict(size=6),\n",
    "        hoverinfo='skip', # start w/ these traces disabled\n",
    "        hovertemplate=None,\n",
    "        showlegend=True\n",
    "    ))\n",
    "\n",
    "# Add an invisible trace for the custom hover info \n",
    "fig.add_trace(go.Scatter(\n",
    "    x=x_positions,\n",
    "    y=[1000] * len(x_positions), \n",
    "    mode='markers',\n",
    "    marker=dict(size=10, opacity=0), \n",
    "    hovertemplate='%{customdata}<extra></extra>',\n",
    "    customdata=hover_data,\n",
    "    showlegend=False,\n",
    "    name='Game Info',\n",
    "    visible=True,  # Start with game changes visible\n",
    "    hoverinfo='text',\n",
    "    text=hover_data  # Use text instead of customdata for better control\n",
    "))\n",
    "\n",
    "# Create custom x-axis labels\n",
    "x_tick_positions = [0] + [pos for pos, label in x_labels[1:]]\n",
    "x_tick_labels = [\"Start\"] + [label for pos, label in x_labels[1:]]\n",
    "\n",
    "# Update layout\n",
    "fig.update_layout(\n",
    "    title={\n",
    "        'text': 'ELO Rating Progression Over Time<br><sub>Click legend entries to show/hide players • Double-click to isolate</sub> <br><sub>Click on Game/Player buttons to change what hover shows (starts in Game)</sub><br>',\n",
    "        'x': 0.5,\n",
    "        'font': {'size': 16},\n",
    "        'pad': {'b': 20} \n",
    "    },\n",
    "    xaxis_title='Date / Games',\n",
    "    yaxis_title='ELO Rating',\n",
    "    width=1100,\n",
    "    height=700,\n",
    "    hovermode='x unified',\n",
    "    legend=dict(\n",
    "        orientation=\"v\",\n",
    "        yanchor=\"top\",\n",
    "        y=1,\n",
    "        xanchor=\"left\",\n",
    "        x=1.02\n",
    "    ),\n",
    "    margin=dict(r=150,t=130),  # Make room for legend, add some room for title\n",
    "    updatemenus=[\n",
    "        dict(\n",
    "            active=0,\n",
    "            type=\"buttons\",\n",
    "            direction=\"left\",\n",
    "            buttons=list([\n",
    "                dict(\n",
    "                    args=[{\n",
    "                        \"hoverinfo\": [\"skip\"] * len(players) + [\"text\"],  # Disable player hovers, enable invisible trace\n",
    "                        \"hovertemplate\": [None] * len(players) + ['%{customdata}<extra></extra>'],\n",
    "                        \"visible\": [True] * len(players) + [True]  # Show invisible trace\n",
    "                    }, {\n",
    "                        \"hovermode\": \"x unified\"  # Use closest to target our invisible trace\n",
    "                    }],\n",
    "                    label=\"Game\",\n",
    "                    method=\"update\"\n",
    "                ),\n",
    "                dict(\n",
    "                    args=[{\n",
    "                        \"hoverinfo\": [\"x+y+name\"] * len(players) + [\"skip\"],  # Enable player hovers, disable invisible trace\n",
    "                        \"visible\": [True] * len(players) + [False]  # Hide invisible trace\n",
    "                    }, {\n",
    "                        \"hovermode\": \"x unified\"  # Back to unified mode for player scores\n",
    "                    }],\n",
    "                    label=\"Player\",\n",
    "                    method=\"update\"\n",
    "                )\n",
    "            ]),\n",
    "            pad={\"r\": 10, \"t\": 10},\n",
    "            showactive=True,\n",
    "            x=0.0,\n",
    "            xanchor=\"left\",\n",
    "            y=1.15,\n",
    "            yanchor=\"top\"\n",
    "        ),\n",
    "    ]\n",
    ")\n",
    "\n",
    "# Set custom x-axis ticks\n",
    "fig.update_xaxes(\n",
    "    tickmode='array',\n",
    "    tickvals=x_tick_positions,\n",
    "    ticktext=x_tick_labels,\n",
    "    tickangle=45\n",
    ")\n",
    "\n",
    "# Add grid\n",
    "fig.update_xaxes(showgrid=True, gridwidth=1, gridcolor='lightgray')\n",
    "fig.update_yaxes(showgrid=True, gridwidth=1, gridcolor='lightgray')\n",
    "\n",
    "# Show the plot\n",
    "fig.show()"
   ]
  },
  {
   "cell_type": "code",
   "execution_count": null,
   "id": "b6382a30",
   "metadata": {},
   "outputs": [],
   "source": [
    "# Export to html\n",
    "fig.write_html(\"index.html\")"
   ]
  }
 ],
 "metadata": {
  "kernelspec": {
   "display_name": ".venv",
   "language": "python",
   "name": "python3"
  },
  "language_info": {
   "codemirror_mode": {
    "name": "ipython",
    "version": 3
   },
   "file_extension": ".py",
   "mimetype": "text/x-python",
   "name": "python",
   "nbconvert_exporter": "python",
   "pygments_lexer": "ipython3",
   "version": "3.12.5"
  }
 },
 "nbformat": 4,
 "nbformat_minor": 5
}
